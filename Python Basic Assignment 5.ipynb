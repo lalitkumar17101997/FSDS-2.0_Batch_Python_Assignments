{
 "cells": [
  {
   "cell_type": "markdown",
   "id": "24b5334b",
   "metadata": {},
   "source": [
    "#  Assignment 5"
   ]
  },
  {
   "cell_type": "markdown",
   "id": "081173cb",
   "metadata": {},
   "source": [
    "### 1. What does an empty dictionary's code look like?"
   ]
  },
  {
   "cell_type": "markdown",
   "id": "48810aa3",
   "metadata": {},
   "source": [
    "**Ans 01:**\n",
    "\n",
    "\n",
    "A Dictionary is created using {} signs with we enclose our key: value pairs. And when we don't put anything in the curly brackets that becomes a empty dictionary."
   ]
  },
  {
   "cell_type": "code",
   "execution_count": 7,
   "id": "684ef637",
   "metadata": {},
   "outputs": [
    {
     "name": "stdout",
     "output_type": "stream",
     "text": [
      "<class 'dict'>\n"
     ]
    }
   ],
   "source": [
    "my_dict = {}\n",
    "print(type(my_dict))"
   ]
  },
  {
   "cell_type": "markdown",
   "id": "70882aad",
   "metadata": {},
   "source": [
    "### 2. What is the value of a dictionary value with the key 'foo' and the value 42?"
   ]
  },
  {
   "cell_type": "markdown",
   "id": "e51f43c5",
   "metadata": {},
   "source": [
    "**Ans 02:**\n",
    "\n",
    "dictionary is an unordered collection of key-value pairs, where each key is unique. To access the value associated with a specific key in a dictionary, you can use the square bracket notation with the key as the index."
   ]
  },
  {
   "cell_type": "code",
   "execution_count": 8,
   "id": "7dbb33f5",
   "metadata": {},
   "outputs": [
    {
     "name": "stdout",
     "output_type": "stream",
     "text": [
      "42\n"
     ]
    }
   ],
   "source": [
    "my_dict = {'foo': 42}\n",
    "x = my_dict['foo']\n",
    "print(x)"
   ]
  },
  {
   "cell_type": "markdown",
   "id": "58cbe49b",
   "metadata": {},
   "source": [
    "### 3. What is the most significant distinction between a dictionary and a list?\n"
   ]
  },
  {
   "cell_type": "markdown",
   "id": "c003588c",
   "metadata": {},
   "source": [
    "**Ans:**\n",
    "    \n",
    "The items stored in a dictionary are unordered, while the items in a list are ordered."
   ]
  },
  {
   "cell_type": "markdown",
   "id": "81f92f39",
   "metadata": {},
   "source": [
    "### 4. What happens if you try to access spam['foo'] if spam is {'bar': 100}?\n"
   ]
  },
  {
   "cell_type": "code",
   "execution_count": 11,
   "id": "a6a9ac4f",
   "metadata": {},
   "outputs": [
    {
     "name": "stdout",
     "output_type": "stream",
     "text": [
      "Unexpected exception formatting exception. Falling back to standard exception\n"
     ]
    },
    {
     "name": "stderr",
     "output_type": "stream",
     "text": [
      "Traceback (most recent call last):\n",
      "  File \"C:\\Users\\Raghav\\AppData\\Roaming\\Python\\Python310\\site-packages\\IPython\\core\\interactiveshell.py\", line 3508, in run_code\n",
      "    exec(code_obj, self.user_global_ns, self.user_ns)\n",
      "  File \"C:\\Users\\Raghav\\AppData\\Local\\Temp\\ipykernel_18780\\1034327641.py\", line 4, in <module>\n",
      "    print(spam['foo'])  # Error because there is no key as 'foo' exists in the database\n",
      "KeyError: 'foo'\n",
      "\n",
      "During handling of the above exception, another exception occurred:\n",
      "\n",
      "Traceback (most recent call last):\n",
      "  File \"C:\\Users\\Raghav\\AppData\\Roaming\\Python\\Python310\\site-packages\\IPython\\core\\interactiveshell.py\", line 2105, in showtraceback\n",
      "    stb = self.InteractiveTB.structured_traceback(\n",
      "  File \"C:\\Users\\Raghav\\AppData\\Roaming\\Python\\Python310\\site-packages\\IPython\\core\\ultratb.py\", line 1428, in structured_traceback\n",
      "    return FormattedTB.structured_traceback(\n",
      "  File \"C:\\Users\\Raghav\\AppData\\Roaming\\Python\\Python310\\site-packages\\IPython\\core\\ultratb.py\", line 1319, in structured_traceback\n",
      "    return VerboseTB.structured_traceback(\n",
      "  File \"C:\\Users\\Raghav\\AppData\\Roaming\\Python\\Python310\\site-packages\\IPython\\core\\ultratb.py\", line 1172, in structured_traceback\n",
      "    formatted_exception = self.format_exception_as_a_whole(etype, evalue, etb, number_of_lines_of_context,\n",
      "  File \"C:\\Users\\Raghav\\AppData\\Roaming\\Python\\Python310\\site-packages\\IPython\\core\\ultratb.py\", line 1087, in format_exception_as_a_whole\n",
      "    frames.append(self.format_record(record))\n",
      "  File \"C:\\Users\\Raghav\\AppData\\Roaming\\Python\\Python310\\site-packages\\IPython\\core\\ultratb.py\", line 969, in format_record\n",
      "    frame_info.lines, Colors, self.has_colors, lvals\n",
      "  File \"C:\\Users\\Raghav\\AppData\\Roaming\\Python\\Python310\\site-packages\\IPython\\core\\ultratb.py\", line 792, in lines\n",
      "    return self._sd.lines\n",
      "  File \"C:\\Users\\Raghav\\AppData\\Roaming\\Python\\Python310\\site-packages\\stack_data\\utils.py\", line 144, in cached_property_wrapper\n",
      "    value = obj.__dict__[self.func.__name__] = self.func(obj)\n",
      "  File \"C:\\Users\\Raghav\\AppData\\Roaming\\Python\\Python310\\site-packages\\stack_data\\core.py\", line 734, in lines\n",
      "    pieces = self.included_pieces\n",
      "  File \"C:\\Users\\Raghav\\AppData\\Roaming\\Python\\Python310\\site-packages\\stack_data\\utils.py\", line 144, in cached_property_wrapper\n",
      "    value = obj.__dict__[self.func.__name__] = self.func(obj)\n",
      "  File \"C:\\Users\\Raghav\\AppData\\Roaming\\Python\\Python310\\site-packages\\stack_data\\core.py\", line 677, in included_pieces\n",
      "    scope_pieces = self.scope_pieces\n",
      "  File \"C:\\Users\\Raghav\\AppData\\Roaming\\Python\\Python310\\site-packages\\stack_data\\utils.py\", line 144, in cached_property_wrapper\n",
      "    value = obj.__dict__[self.func.__name__] = self.func(obj)\n",
      "  File \"C:\\Users\\Raghav\\AppData\\Roaming\\Python\\Python310\\site-packages\\stack_data\\core.py\", line 614, in scope_pieces\n",
      "    scope_start, scope_end = self.source.line_range(self.scope)\n",
      "  File \"C:\\Users\\Raghav\\AppData\\Roaming\\Python\\Python310\\site-packages\\stack_data\\core.py\", line 178, in line_range\n",
      "    return line_range(self.asttext(), node)\n",
      "AttributeError: 'Source' object has no attribute 'asttext'\n"
     ]
    }
   ],
   "source": [
    "# Ans:\n",
    "\n",
    "spam = {'bar':100}\n",
    "print(spam['foo'])  # Error because there is no key as 'foo' exists in the database"
   ]
  },
  {
   "cell_type": "markdown",
   "id": "4fe46bab",
   "metadata": {},
   "source": [
    "### 5. If a dictionary is stored in spam, what is the difference between the expressions 'cat' in spam and 'cat' in spam.keys()?\n",
    "\n"
   ]
  },
  {
   "cell_type": "code",
   "execution_count": 14,
   "id": "c6d7e2f1",
   "metadata": {},
   "outputs": [
    {
     "name": "stdout",
     "output_type": "stream",
     "text": [
      "dict_keys(['cat', 'dog'])\n"
     ]
    }
   ],
   "source": [
    "# **Ans:**\n",
    "    \n",
    "spam = {'cat': 'meow', 'dog': 'bark'}\n",
    "x = spam.keys() # It gives list of all the keys in dictionary\n",
    "print(x)"
   ]
  },
  {
   "cell_type": "code",
   "execution_count": 15,
   "id": "8ee92609",
   "metadata": {},
   "outputs": [
    {
     "data": {
      "text/plain": [
       "True"
      ]
     },
     "execution_count": 15,
     "metadata": {},
     "output_type": "execute_result"
    }
   ],
   "source": [
    "# method 1:\n",
    "'cat' in spam # It's more efficient.\n"
   ]
  },
  {
   "cell_type": "code",
   "execution_count": 16,
   "id": "6fa89cd4",
   "metadata": {},
   "outputs": [
    {
     "data": {
      "text/plain": [
       "True"
      ]
     },
     "execution_count": 16,
     "metadata": {},
     "output_type": "execute_result"
    }
   ],
   "source": [
    "# method 2:\n",
    "'cat' in x # Here it first creates list of all the keys then checks if the key is present in  th"
   ]
  },
  {
   "cell_type": "markdown",
   "id": "df4fc9df",
   "metadata": {},
   "source": [
    "Both ways we can check if key is present in the dictionary or not. Main difference is second methods creates list of all the keys in the dictionary."
   ]
  },
  {
   "cell_type": "markdown",
   "id": "c0962b64",
   "metadata": {},
   "source": [
    "### 6. If a dictionary is stored in spam, what is the difference between the expressions 'cat' in spam and 'cat' in spam.values()?\n"
   ]
  },
  {
   "cell_type": "markdown",
   "id": "d39a16d6",
   "metadata": {},
   "source": [
    "**Ans:**\n",
    "    \n",
    "For `spam.values()` we get list of all the values so as 'cat' is the key it will not be present in this list. We will have it's value instead as 'meow'."
   ]
  },
  {
   "cell_type": "code",
   "execution_count": 17,
   "id": "8fbe0342",
   "metadata": {},
   "outputs": [
    {
     "data": {
      "text/plain": [
       "dict_values(['meow', 'bark'])"
      ]
     },
     "execution_count": 17,
     "metadata": {},
     "output_type": "execute_result"
    }
   ],
   "source": [
    "\n",
    "spam.values()"
   ]
  },
  {
   "cell_type": "markdown",
   "id": "31dd30d1",
   "metadata": {},
   "source": [
    "### 7. What is a shortcut for the following code?\n",
    "    if 'color' not in spam:\n",
    "    spam['color'] = 'black'"
   ]
  },
  {
   "cell_type": "markdown",
   "id": "c35bf05f",
   "metadata": {},
   "source": [
    "**Ans 07:**\n",
    "\n",
    "\n",
    "The setdefault() method takes two arguments: the first argument is the key that you want to check for existence, and the second argument is the default value that you want to set for the key if it doesn't exist. If the key already exists in the dictionary, setdefault() returns its corresponding value. If the key is not in the dictionary, setdefault() adds the key to the dictionary with the default value and returns that value."
   ]
  },
  {
   "cell_type": "code",
   "execution_count": 18,
   "id": "24958314",
   "metadata": {},
   "outputs": [
    {
     "name": "stdout",
     "output_type": "stream",
     "text": [
      "{'name': 'Laptop', 'price': 35000, 'color': 'black'}\n"
     ]
    }
   ],
   "source": [
    "product = {'name': 'Laptop', 'price': 35000}\n",
    "product.setdefault('color', 'black') # Checks if key is available, if not then adds to the dictionary\n",
    "print(product)"
   ]
  },
  {
   "cell_type": "markdown",
   "id": "a17c2cd8",
   "metadata": {},
   "source": [
    "### 8. How do you \"pretty print\" dictionary values using which module and function?\n"
   ]
  },
  {
   "cell_type": "markdown",
   "id": "576dacf3",
   "metadata": {},
   "source": [
    "**Ans:**\n",
    "\n",
    "by using pprint module from python we can print our dictionaries in good formats."
   ]
  },
  {
   "cell_type": "code",
   "execution_count": 20,
   "id": "97e0b8c6",
   "metadata": {},
   "outputs": [
    {
     "name": "stdout",
     "output_type": "stream",
     "text": [
      "{'age': 30, 'city': 'New York', 'name': 'John'}\n"
     ]
    }
   ],
   "source": [
    "import pprint\n",
    "\n",
    "my_dict = {'name': 'John',        \n",
    "           'age': 30,              \n",
    "           'city': 'New York'}\n",
    "pprint.pprint(my_dict)"
   ]
  },
  {
   "cell_type": "code",
   "execution_count": null,
   "id": "90b47393",
   "metadata": {},
   "outputs": [],
   "source": []
  }
 ],
 "metadata": {
  "kernelspec": {
   "display_name": "Python 3 (ipykernel)",
   "language": "python",
   "name": "python3"
  },
  "language_info": {
   "codemirror_mode": {
    "name": "ipython",
    "version": 3
   },
   "file_extension": ".py",
   "mimetype": "text/x-python",
   "name": "python",
   "nbconvert_exporter": "python",
   "pygments_lexer": "ipython3",
   "version": "3.10.9"
  }
 },
 "nbformat": 4,
 "nbformat_minor": 5
}
